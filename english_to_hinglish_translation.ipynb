{
 "cells": [
  {
   "cell_type": "code",
   "execution_count": 1,
   "id": "776b62af",
   "metadata": {},
   "outputs": [
    {
     "name": "stderr",
     "output_type": "stream",
     "text": [
      "C:\\Users\\Anju Reddy K\\anaconda\\lib\\site-packages\\transformers\\models\\marian\\tokenization_marian.py:194: UserWarning: Recommended: pip install sacremoses.\n",
      "  warnings.warn(\"Recommended: pip install sacremoses.\")\n"
     ]
    }
   ],
   "source": [
    "from transformers import MarianTokenizer, MarianMTModel\n",
    "\n",
    "# Load the MarianMT model and tokenizer for English to Hindi\n",
    "model_name = \"Helsinki-NLP/opus-mt-en-hi\"\n",
    "tokenizer = MarianTokenizer.from_pretrained(model_name)\n",
    "model = MarianMTModel.from_pretrained(model_name)"
   ]
  },
  {
   "cell_type": "code",
   "execution_count": 2,
   "id": "71d7f172",
   "metadata": {},
   "outputs": [],
   "source": [
    "# Define a list of words to keep in English\n",
    "english_words_to_keep = [\"definitely\", \"feedback\", \"comment\", \"video\", \"clearly\", \"products\", \"waiting\", \"bag\"]\n",
    "\n",
    "# Function to translate English to Hindi with word selection\n",
    "def english_to_hindi_with_selection(text):\n",
    "    # Split the text into words\n",
    "    words = text.split()\n",
    "\n",
    "    # Initialize an empty list for the translated words\n",
    "    translated_words = []\n",
    "\n",
    "    # Translate each word to Hindi unless it's in the list of words to keep in English\n",
    "    for word in words:\n",
    "        if word.lower() in english_words_to_keep:\n",
    "            translated_words.append(word)\n",
    "        else:\n",
    "            # Tokenize and translate to Hindi\n",
    "            input_ids = tokenizer.encode(word, return_tensors=\"pt\")\n",
    "            translation = model.generate(input_ids, max_length=40, num_beams=4, early_stopping=True)\n",
    "            hindi_translation = tokenizer.decode(translation[0], skip_special_tokens=True)\n",
    "            translated_words.append(hindi_translation)\n",
    "\n",
    "    # Reconstruct the text\n",
    "    hinglish_output = \" \".join(translated_words)\n",
    "\n",
    "    return hinglish_output"
   ]
  },
  {
   "cell_type": "code",
   "execution_count": 3,
   "id": "d7d34af1",
   "metadata": {},
   "outputs": [
    {
     "name": "stdout",
     "output_type": "stream",
     "text": [
      "Hinglish Output: Definitely साझा आपका feedback में वह comment खंड.\n",
      "Hinglish Output: तो यहां तक यदि यह है एक बड़ा वीडियो, आई होगा clearly उल्लेख सभी वह उत्पाद.\n",
      "Hinglish Output: आई था waiting के लिए मेरा बैग.\n"
     ]
    }
   ],
   "source": [
    "# Input sentences\n",
    "sentences = [\n",
    "    \"Definitely share your feedback in the comment section.\",\n",
    "    \"So even if it's a big video, I will clearly mention all the products.\",\n",
    "    \"I was waiting for my bag.\"\n",
    "]\n",
    "\n",
    "# Translate each sentence to Hinglish with word selection\n",
    "for sentence in sentences:\n",
    "    hinglish_output = english_to_hindi_with_selection(sentence)\n",
    "    print(\"Hinglish Output:\", hinglish_output)"
   ]
  },
  {
   "cell_type": "code",
   "execution_count": null,
   "id": "56fe7a8a",
   "metadata": {},
   "outputs": [],
   "source": []
  }
 ],
 "metadata": {
  "kernelspec": {
   "display_name": "Python 3 (ipykernel)",
   "language": "python",
   "name": "python3"
  },
  "language_info": {
   "codemirror_mode": {
    "name": "ipython",
    "version": 3
   },
   "file_extension": ".py",
   "mimetype": "text/x-python",
   "name": "python",
   "nbconvert_exporter": "python",
   "pygments_lexer": "ipython3",
   "version": "3.10.9"
  }
 },
 "nbformat": 4,
 "nbformat_minor": 5
}
